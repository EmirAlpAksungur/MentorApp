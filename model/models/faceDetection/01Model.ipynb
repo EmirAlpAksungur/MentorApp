{
 "cells": [
  {
   "cell_type": "code",
   "execution_count": 4,
   "metadata": {},
   "outputs": [],
   "source": [
    "import PIL\n",
    "import pandas as pd\n",
    "import numpy as np\n",
    "import matplotlib.pyplot as plt\n",
    "import matplotlib.patches as patches\n",
    "import keras\n",
    "import tensorflow as tf\n",
    "\n",
    "from sklearn.model_selection import train_test_split\n",
    "from keras.models import Sequential\n",
    "from keras.layers import Dense, Dropout, Flatten, Conv2D, MaxPooling2D\n",
    "from keras.preprocessing import image"
   ]
  },
  {
   "cell_type": "code",
   "execution_count": 5,
   "metadata": {},
   "outputs": [
    {
     "data": {
      "text/plain": [
       "(45, 36)"
      ]
     },
     "execution_count": 5,
     "metadata": {},
     "output_type": "execute_result"
    }
   ],
   "source": [
    "key_points_data_path = \"./data/data2/list_bbox_celeba.csv\"\n",
    "images_data_path = \"./data/data2/img\"\n",
    "\n",
    "images_data_size = 35000\n",
    "\n",
    "# originsl image dimensions\n",
    "x_org = 178    # original x value\n",
    "y_org = 218    # original y value\n",
    "\n",
    "# new image dimensions\n",
    "x_ = 45                             # new value of x\n",
    "image_size_ratio = x_org / y_org    # dimensions ratio\n",
    "y_ = int(image_size_ratio * x_)     # new value of y\n",
    "\n",
    "# image sizes\n",
    "original_image_size = (x_org, y_org)\n",
    "new_image_size = (x_,y_)\n",
    "\n",
    "# the image size that will be used in the training process\n",
    "image_size_training = new_image_size\n",
    "new_image_size"
   ]
  },
  {
   "cell_type": "code",
   "execution_count": 6,
   "metadata": {},
   "outputs": [
    {
     "data": {
      "text/html": [
       "<div>\n",
       "<style scoped>\n",
       "    .dataframe tbody tr th:only-of-type {\n",
       "        vertical-align: middle;\n",
       "    }\n",
       "\n",
       "    .dataframe tbody tr th {\n",
       "        vertical-align: top;\n",
       "    }\n",
       "\n",
       "    .dataframe thead th {\n",
       "        text-align: right;\n",
       "    }\n",
       "</style>\n",
       "<table border=\"1\" class=\"dataframe\">\n",
       "  <thead>\n",
       "    <tr style=\"text-align: right;\">\n",
       "      <th></th>\n",
       "      <th>image_id</th>\n",
       "      <th>x_1</th>\n",
       "      <th>y_1</th>\n",
       "      <th>width</th>\n",
       "      <th>height</th>\n",
       "    </tr>\n",
       "  </thead>\n",
       "  <tbody>\n",
       "    <tr>\n",
       "      <th>0</th>\n",
       "      <td>000001.jpg</td>\n",
       "      <td>95</td>\n",
       "      <td>71</td>\n",
       "      <td>226</td>\n",
       "      <td>313</td>\n",
       "    </tr>\n",
       "    <tr>\n",
       "      <th>1</th>\n",
       "      <td>000002.jpg</td>\n",
       "      <td>72</td>\n",
       "      <td>94</td>\n",
       "      <td>221</td>\n",
       "      <td>306</td>\n",
       "    </tr>\n",
       "    <tr>\n",
       "      <th>2</th>\n",
       "      <td>000003.jpg</td>\n",
       "      <td>216</td>\n",
       "      <td>59</td>\n",
       "      <td>91</td>\n",
       "      <td>126</td>\n",
       "    </tr>\n",
       "  </tbody>\n",
       "</table>\n",
       "</div>"
      ],
      "text/plain": [
       "     image_id  x_1  y_1  width  height\n",
       "0  000001.jpg   95   71    226     313\n",
       "1  000002.jpg   72   94    221     306\n",
       "2  000003.jpg  216   59     91     126"
      ]
     },
     "execution_count": 6,
     "metadata": {},
     "output_type": "execute_result"
    }
   ],
   "source": [
    "df_org = pd.read_csv(key_points_data_path)\n",
    "df_org = df_org[:images_data_size]\n",
    "\n",
    "# check\n",
    "df_org.head(3)"
   ]
  },
  {
   "cell_type": "code",
   "execution_count": 7,
   "metadata": {},
   "outputs": [
    {
     "name": "stdout",
     "output_type": "stream",
     "text": [
      "<class 'pandas.core.frame.DataFrame'>\n",
      "RangeIndex: 35000 entries, 0 to 34999\n",
      "Data columns (total 5 columns):\n",
      " #   Column    Non-Null Count  Dtype \n",
      "---  ------    --------------  ----- \n",
      " 0   image_id  35000 non-null  object\n",
      " 1   x_1       35000 non-null  int64 \n",
      " 2   y_1       35000 non-null  int64 \n",
      " 3   width     35000 non-null  int64 \n",
      " 4   height    35000 non-null  int64 \n",
      "dtypes: int64(4), object(1)\n",
      "memory usage: 1.3+ MB\n"
     ]
    }
   ],
   "source": [
    "df_org.info()\n"
   ]
  },
  {
   "cell_type": "code",
   "execution_count": 8,
   "metadata": {},
   "outputs": [
    {
     "ename": "KeyboardInterrupt",
     "evalue": "",
     "output_type": "error",
     "traceback": [
      "\u001b[1;31m---------------------------------------------------------------------------\u001b[0m",
      "\u001b[1;31mKeyboardInterrupt\u001b[0m                         Traceback (most recent call last)",
      "Cell \u001b[1;32mIn[8], line 14\u001b[0m\n\u001b[0;32m     11\u001b[0m     images_data\u001b[38;5;241m.\u001b[39mappend(image_array)\n\u001b[0;32m     13\u001b[0m \u001b[38;5;66;03m# convert images_data to be array not list\u001b[39;00m\n\u001b[1;32m---> 14\u001b[0m images_data \u001b[38;5;241m=\u001b[39m \u001b[43mnp\u001b[49m\u001b[38;5;241;43m.\u001b[39;49m\u001b[43marray\u001b[49m\u001b[43m(\u001b[49m\u001b[43mimages_data\u001b[49m\u001b[43m)\u001b[49m\n\u001b[0;32m     16\u001b[0m \u001b[38;5;66;03m# check\u001b[39;00m\n\u001b[0;32m     17\u001b[0m images_data\u001b[38;5;241m.\u001b[39mshape\n",
      "\u001b[1;31mKeyboardInterrupt\u001b[0m: "
     ]
    }
   ],
   "source": [
    "images_data = list()\n",
    "for idx in range(df_org.shape[0]):\n",
    "    # to get the path based on index\n",
    "    path = \"{}/{}\".format(str(images_data_path),str(df_org.iloc[idx].image_id))\n",
    "    \n",
    "    # to read the image\n",
    "    image = PIL.Image.open(path).resize(image_size_training)\n",
    "    image_array = np.asarray(image) / 255\n",
    "    \n",
    "    # append the image array to images_data\n",
    "    images_data.append(image_array)\n",
    "    \n",
    "# convert images_data to be array not list\n",
    "images_data = np.array(images_data)\n",
    "\n",
    "# check\n",
    "images_data.shape"
   ]
  },
  {
   "cell_type": "code",
   "execution_count": 7,
   "metadata": {},
   "outputs": [
    {
     "data": {
      "text/plain": [
       "<matplotlib.image.AxesImage at 0x21cd7b178c0>"
      ]
     },
     "execution_count": 7,
     "metadata": {},
     "output_type": "execute_result"
    },
    {
     "data": {
      "image/png": "[encoded data removed]",
      "text/plain": [
       "<Figure size 640x480 with 1 Axes>"
      ]
     },
     "metadata": {},
     "output_type": "display_data"
    }
   ],
   "source": [
    "plt.imshow(images_data[18])"
   ]
  },
  {
   "cell_type": "code",
   "execution_count": 8,
   "metadata": {},
   "outputs": [
    {
     "name": "stdout",
     "output_type": "stream",
     "text": [
      "Images Data Arrays Shape: (35000, 36, 45, 3)\n",
      "Key Points Data Shape: (35000, 5)\n"
     ]
    }
   ],
   "source": [
    "print(\"Images Data Arrays Shape:\", images_data.shape)\n",
    "print(\"Key Points Data Shape:\", df_org.shape)"
   ]
  },
  {
   "cell_type": "code",
   "execution_count": 10,
   "metadata": {},
   "outputs": [
    {
     "data": {
      "text/html": [
       "<div>\n",
       "<style scoped>\n",
       "    .dataframe tbody tr th:only-of-type {\n",
       "        vertical-align: middle;\n",
       "    }\n",
       "\n",
       "    .dataframe tbody tr th {\n",
       "        vertical-align: top;\n",
       "    }\n",
       "\n",
       "    .dataframe thead th {\n",
       "        text-align: right;\n",
       "    }\n",
       "</style>\n",
       "<table border=\"1\" class=\"dataframe\">\n",
       "  <thead>\n",
       "    <tr style=\"text-align: right;\">\n",
       "      <th></th>\n",
       "      <th>x_1</th>\n",
       "      <th>y_1</th>\n",
       "      <th>width</th>\n",
       "      <th>height</th>\n",
       "    </tr>\n",
       "  </thead>\n",
       "  <tbody>\n",
       "    <tr>\n",
       "      <th>count</th>\n",
       "      <td>35000.000000</td>\n",
       "      <td>35000.000000</td>\n",
       "      <td>35000.000000</td>\n",
       "      <td>35000.000000</td>\n",
       "    </tr>\n",
       "    <tr>\n",
       "      <th>mean</th>\n",
       "      <td>157.912514</td>\n",
       "      <td>84.936800</td>\n",
       "      <td>195.991771</td>\n",
       "      <td>270.586514</td>\n",
       "    </tr>\n",
       "    <tr>\n",
       "      <th>std</th>\n",
       "      <td>163.626717</td>\n",
       "      <td>78.388446</td>\n",
       "      <td>143.622652</td>\n",
       "      <td>198.027883</td>\n",
       "    </tr>\n",
       "    <tr>\n",
       "      <th>min</th>\n",
       "      <td>1.000000</td>\n",
       "      <td>1.000000</td>\n",
       "      <td>5.000000</td>\n",
       "      <td>7.000000</td>\n",
       "    </tr>\n",
       "    <tr>\n",
       "      <th>25%</th>\n",
       "      <td>70.000000</td>\n",
       "      <td>44.000000</td>\n",
       "      <td>120.000000</td>\n",
       "      <td>166.000000</td>\n",
       "    </tr>\n",
       "    <tr>\n",
       "      <th>50%</th>\n",
       "      <td>111.000000</td>\n",
       "      <td>68.000000</td>\n",
       "      <td>164.000000</td>\n",
       "      <td>227.000000</td>\n",
       "    </tr>\n",
       "    <tr>\n",
       "      <th>75%</th>\n",
       "      <td>184.000000</td>\n",
       "      <td>98.000000</td>\n",
       "      <td>221.000000</td>\n",
       "      <td>306.000000</td>\n",
       "    </tr>\n",
       "    <tr>\n",
       "      <th>max</th>\n",
       "      <td>2799.000000</td>\n",
       "      <td>1858.000000</td>\n",
       "      <td>2509.000000</td>\n",
       "      <td>3276.000000</td>\n",
       "    </tr>\n",
       "  </tbody>\n",
       "</table>\n",
       "</div>"
      ],
      "text/plain": [
       "                x_1           y_1         width        height\n",
       "count  35000.000000  35000.000000  35000.000000  35000.000000\n",
       "mean     157.912514     84.936800    195.991771    270.586514\n",
       "std      163.626717     78.388446    143.622652    198.027883\n",
       "min        1.000000      1.000000      5.000000      7.000000\n",
       "25%       70.000000     44.000000    120.000000    166.000000\n",
       "50%      111.000000     68.000000    164.000000    227.000000\n",
       "75%      184.000000     98.000000    221.000000    306.000000\n",
       "max     2799.000000   1858.000000   2509.000000   3276.000000"
      ]
     },
     "execution_count": 10,
     "metadata": {},
     "output_type": "execute_result"
    }
   ],
   "source": [
    "df_org.describe()"
   ]
  },
  {
   "cell_type": "code",
   "execution_count": 11,
   "metadata": {},
   "outputs": [],
   "source": [
    "# function to read images based on index\n",
    "def image_array(index, size=image_size_training, path=images_data_path):\n",
    "    \"\"\"\n",
    "    This functions is for converting images to arrays to deal with it in the model.\n",
    "    \n",
    "    Input:  index of the image that we want to convert to array\n",
    "            size of the image that we want for the array of the image\n",
    "            path of the images data to get the image\n",
    "            \n",
    "    Output: the image array as numpy array\n",
    "    \"\"\"\n",
    "    # to get the path based on index\n",
    "    path = \"{}/{}\".format(str(path),str(df_org.iloc[index].image_id))\n",
    "    \n",
    "    # to read the image\n",
    "    image = PIL.Image.open(path).resize(size)\n",
    "    image_array = np.asarray(image)\n",
    "    \n",
    "    return image_array"
   ]
  },
  {
   "cell_type": "code",
   "execution_count": 12,
   "metadata": {},
   "outputs": [],
   "source": [
    "# function to get a list of all key points of the face\n",
    "def image_key_points_list(index, df = df_org):\n",
    "    \"\"\"\n",
    "    This function for getting the key points on the face as list to deal with it in plotting sections\n",
    "    \"\"\"\n",
    "    # box dictionary\n",
    "    points_list = [df.iloc[index].x_1,\n",
    "                   df.iloc[index].y_1,\n",
    "                   df.iloc[index].width,\n",
    "                   df.iloc[index].height,]\n",
    "    \n",
    "    return points_list"
   ]
  },
  {
   "cell_type": "code",
   "execution_count": 2,
   "metadata": {},
   "outputs": [
    {
     "ename": "NameError",
     "evalue": "name 'df_org' is not defined",
     "output_type": "error",
     "traceback": [
      "\u001b[1;31m---------------------------------------------------------------------------\u001b[0m",
      "\u001b[1;31mNameError\u001b[0m                                 Traceback (most recent call last)",
      "Cell \u001b[1;32mIn[2], line 2\u001b[0m\n\u001b[0;32m      1\u001b[0m \u001b[38;5;66;03m# function to plot the image with green box around the faces\u001b[39;00m\n\u001b[1;32m----> 2\u001b[0m \u001b[38;5;28;01mdef\u001b[39;00m \u001b[38;5;21mplotting_image_with_box\u001b[39m(index, df \u001b[38;5;241m=\u001b[39m \u001b[43mdf_org\u001b[49m, size\u001b[38;5;241m=\u001b[39moriginal_image_size):\n\u001b[0;32m      4\u001b[0m     test_image \u001b[38;5;241m=\u001b[39m image_array(index, size)\n\u001b[0;32m      5\u001b[0m     points_list \u001b[38;5;241m=\u001b[39m image_key_points_list(index, df)\n",
      "\u001b[1;31mNameError\u001b[0m: name 'df_org' is not defined"
     ]
    }
   ],
   "source": [
    "# function to plot the image with green box around the faces\n",
    "def plotting_image_with_box(index, df = df_org, size=original_image_size):\n",
    "\n",
    "    test_image = image_array(index, size)\n",
    "    points_list = image_key_points_list(index, df)\n",
    "    print(points_list)\n",
    "    x, y, w, h = points_list[0], points_list[1], points_list[2], points_list[3]\n",
    "    \n",
    "    # Create figure and axes\n",
    "    fig, ax = plt.subplots()\n",
    "    # plot the image\n",
    "    ax.imshow(test_image)\n",
    "    # plot the points on the face\n",
    "    ax.plot([x],[y], 'bo-')\n",
    "    \n",
    "    # plot the box around the face\n",
    "\n",
    "    rect = patches.Rectangle((x, y), w, h, linewidth=4, edgecolor='g', facecolor='none')\n",
    "    ax.add_patch(rect)"
   ]
  },
  {
   "cell_type": "code",
   "execution_count": 3,
   "metadata": {},
   "outputs": [
    {
     "ename": "NameError",
     "evalue": "name 'plotting_image_with_box' is not defined",
     "output_type": "error",
     "traceback": [
      "\u001b[1;31m---------------------------------------------------------------------------\u001b[0m",
      "\u001b[1;31mNameError\u001b[0m                                 Traceback (most recent call last)",
      "Cell \u001b[1;32mIn[3], line 1\u001b[0m\n\u001b[1;32m----> 1\u001b[0m \u001b[43mplotting_image_with_box\u001b[49m(\u001b[38;5;241m18\u001b[39m)\n",
      "\u001b[1;31mNameError\u001b[0m: name 'plotting_image_with_box' is not defined"
     ]
    }
   ],
   "source": [
    "plotting_image_with_box(18)"
   ]
  },
  {
   "cell_type": "code",
   "execution_count": null,
   "metadata": {},
   "outputs": [],
   "source": []
  },
  {
   "cell_type": "code",
   "execution_count": null,
   "metadata": {},
   "outputs": [],
   "source": []
  }
 ],
 "metadata": {
  "kernelspec": {
   "display_name": ".venv",
   "language": "python",
   "name": "python3"
  },
  "language_info": {
   "codemirror_mode": {
    "name": "ipython",
    "version": 3
   },
   "file_extension": ".py",
   "mimetype": "text/x-python",
   "name": "python",
   "nbconvert_exporter": "python",
   "pygments_lexer": "ipython3",
   "version": "3.12.0"
  }
 },
 "nbformat": 4,
 "nbformat_minor": 2
}
